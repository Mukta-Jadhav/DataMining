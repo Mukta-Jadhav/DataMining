{
 "cells": [
  {
   "cell_type": "code",
   "execution_count": null,
   "id": "0ffce128",
   "metadata": {},
   "outputs": [],
   "source": [
    "import pandas as pd\n",
    "import numpy as np\n",
    "import matplotlib.pyplot as plt\n",
    "from apyori import apriori\n",
    "\n",
    "dataset=pd.read_csv('C:\\\\DataSets\\\\iris.csv');\n",
    "print(dataset)"
   ]
  }
 ],
 "metadata": {
  "language_info": {
   "name": "python"
  }
 },
 "nbformat": 4,
 "nbformat_minor": 5
}
