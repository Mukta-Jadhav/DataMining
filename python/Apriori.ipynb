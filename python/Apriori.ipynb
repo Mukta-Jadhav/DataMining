{
 "cells": [
  {
   "cell_type": "code",
   "execution_count": null,
   "id": "0ffce128",
   "metadata": {},
   "outputs": [],
   "source": [
    "import pandas as pd\n",
    "import numpy as np\n",
    "import matplotlib.pyplot as plt\n",
    "from mlxtend.frequent_pattern import apriori, association_rule\n",
    "\n",
    "dataset=pd.read_csv('C:\\\\DataSets\\\\iris.csv');\n",
    "print(dataset)"
     "data.drop['Id','Species'],axis=1,inplace=True"
      "data_binarized=data.apply(lambda x:pd.Series(1,index=x[x>0].index),axis=1).fillna(0)"
" "
   ]
  }
 ],
 "metadata": {
  "language_info": {
   "name": "python"
  }
 },
 "nbformat": 4,
 "nbformat_minor": 5
}
