{
 "cells": [
  {
   "cell_type": "code",
   "execution_count": 1,
   "id": "cf02f711-b322-4132-9b2c-5b94b1412d98",
   "metadata": {},
   "outputs": [
    {
     "name": "stdout",
     "output_type": "stream",
     "text": [
      "15\n"
     ]
    }
   ],
   "source": [
    "a=10;\n",
    "b=5;\n",
    "result=a+b;\n",
    "print(result);"
   ]
  },
  {
   "cell_type": "code",
   "execution_count": 9,
   "id": "e9d39d9a-eb8c-4694-851a-01616a010e12",
   "metadata": {},
   "outputs": [
    {
     "name": "stdout",
     "output_type": "stream",
     "text": [
      "a is greater\n"
     ]
    }
   ],
   "source": [
    "a=23;\n",
    "b=5;\n",
    "if a>b:\n",
    "    print(\"a is greater\");\n",
    "else:\n",
    "    print(\"b is greater\");\n",
    "    \n"
   ]
  },
  {
   "cell_type": "code",
   "execution_count": 3,
   "id": "945a31b7-6db2-400e-8a44-81217f13185b",
   "metadata": {},
   "outputs": [
    {
     "name": "stdout",
     "output_type": "stream",
     "text": [
      "a is greater\n"
     ]
    }
   ],
   "source": [
    "a=23;\n",
    "b=5;\n",
    "if (a>b):\n",
    "    print(\"a is greater\");\n",
    "else:\n",
    "    print(\"b is greater\");"
   ]
  },
  {
   "cell_type": "code",
   "execution_count": 7,
   "id": "ed2592ed-d7d2-4c1c-aad8-5321df4c78c1",
   "metadata": {},
   "outputs": [
    {
     "name": "stdout",
     "output_type": "stream",
     "text": [
      "maximum number is: 100\n"
     ]
    }
   ],
   "source": [
    "a=45;\n",
    "b=100;\n",
    "result=(a if a>b else b);\n",
    "print(\"maximum number is:\",result);\n"
   ]
  },
  {
   "cell_type": "code",
   "execution_count": 5,
   "id": "7bf973c2-ba11-42d9-92ad-896b4a8b8e5f",
   "metadata": {},
   "outputs": [
    {
     "name": "stdout",
     "output_type": "stream",
     "text": [
      "67\n"
     ]
    }
   ],
   "source": [
    "a=67;\n",
    "b=45;\n",
    "find_max=max(a,b);\n",
    "print(find_max);"
   ]
  },
  {
   "cell_type": "code",
   "execution_count": 31,
   "id": "95427e99-255f-4894-bc0d-d2dbeec2b7f9",
   "metadata": {},
   "outputs": [
    {
     "name": "stdout",
     "output_type": "stream",
     "text": [
      "maximum number: 23\n"
     ]
    }
   ],
   "source": [
    "def find_max(a,b):\n",
    "  nums=(a,b)\n",
    "  b=sorted(nums)\n",
    "  return nums[-1]\n",
    "num1=56\n",
    "num2=23;\n",
    "max_num=find_max(num1,num2)\n",
    "print(\"maximum number:\",max_num)"
   ]
  },
  {
   "cell_type": "code",
   "execution_count": 3,
   "id": "c99f82d9-ca9f-41cc-b15f-5487d4f4cc57",
   "metadata": {},
   "outputs": [
    {
     "name": "stdin",
     "output_type": "stream",
     "text": [
      "enter a number: 3\n",
      "enter a number 2: 45\n"
     ]
    },
    {
     "name": "stdout",
     "output_type": "stream",
     "text": [
      "multiplication is: 135\n"
     ]
    }
   ],
   "source": [
    "a=int(input(\"enter a number:\"))\n",
    "b=int(input(\"enter a number 2:\"))\n",
    "mult=a*b\n",
    "print(f\"multiplication is:\",mult)"
   ]
  },
  {
   "cell_type": "code",
   "execution_count": 5,
   "id": "11d5419e-8bb3-4f51-91b7-2fad14de0954",
   "metadata": {},
   "outputs": [
    {
     "name": "stdout",
     "output_type": "stream",
     "text": [
      "average is: 51.6\n"
     ]
    }
   ],
   "source": [
    "a=[34,56,67,1,100]\n",
    "length=len(a)\n",
    "avg=sum(a)/length\n",
    "print(\"average is:\",avg)\n"
   ]
  },
  {
   "cell_type": "code",
   "execution_count": 9,
   "id": "fe1191c5-3728-4cea-bdf7-59acf30d3a6f",
   "metadata": {},
   "outputs": [
    {
     "name": "stdin",
     "output_type": "stream",
     "text": [
      "enter a number: 45\n"
     ]
    },
    {
     "name": "stdout",
     "output_type": "stream",
     "text": [
      "ok\n"
     ]
    }
   ],
   "source": [
    "a=int(input(\"enter a number:\"))\n",
    "if a>1 and  a<50:\n",
    "    print(\"ok\")\n",
    "else:\n",
    "    print(\"out of range\")\n",
    "    "
   ]
  },
  {
   "cell_type": "code",
   "execution_count": 11,
   "id": "99c92f28-3f65-461b-b6b2-61b63914a778",
   "metadata": {},
   "outputs": [
    {
     "name": "stdin",
     "output_type": "stream",
     "text": [
      "enter a number: 130\n"
     ]
    },
    {
     "name": "stdout",
     "output_type": "stream",
     "text": [
      "sum: 4\n"
     ]
    }
   ],
   "source": [
    "a=int(input(\"enter a number:\"))\n",
    "sum=0\n",
    "while(a>0):\n",
    "    rem=a%10\n",
    "    sum=sum+rem\n",
    "    a=a//10\n",
    "print(\"sum:\",sum)"
   ]
  },
  {
   "cell_type": "code",
   "execution_count": 12,
   "id": "8a79c0c3-e6ee-4178-8d3b-dee3aefceb82",
   "metadata": {},
   "outputs": [
    {
     "name": "stdin",
     "output_type": "stream",
     "text": [
      "enter number 1: 34\n",
      "enter number 2: 35\n"
     ]
    },
    {
     "name": "stdout",
     "output_type": "stream",
     "text": [
      "numbers are different.\n"
     ]
    }
   ],
   "source": [
    "i=int(input(\"enter number 1:\"))\n",
    "j=int(input(\"enter number 2:\"))\n",
    "if(i==j):\n",
    "    print(\"numbers are same.\")\n",
    "else:\n",
    "    print(\"numbers are different.\")"
   ]
  },
  {
   "cell_type": "code",
   "execution_count": 14,
   "id": "bc39b66b-ab35-4bcf-8b31-d6db56b046bd",
   "metadata": {},
   "outputs": [
    {
     "name": "stdin",
     "output_type": "stream",
     "text": [
      "enter a number: 134\n"
     ]
    },
    {
     "name": "stdout",
     "output_type": "stream",
     "text": [
      "reverse of134is:431\n"
     ]
    }
   ],
   "source": [
    "a=int(input(\"enter a number:\"))\n",
    "temp=a\n",
    "sum=0\n",
    "rev=0\n",
    "while(a>0):\n",
    "    rem=a%10\n",
    "    rev=(rev*10)+rem\n",
    "    a=a//10\n",
    "print(f\"reverse of {temp} is:{rev}\")\n",
    " "
   ]
  },
  {
   "cell_type": "code",
   "execution_count": 16,
   "id": "1b92ddf3-0c65-47d2-b3c8-d9a778efe0fa",
   "metadata": {},
   "outputs": [
    {
     "name": "stdin",
     "output_type": "stream",
     "text": [
      "enter a number: 134\n"
     ]
    },
    {
     "name": "stdout",
     "output_type": "stream",
     "text": [
      "134 is not pallindrome.\n"
     ]
    }
   ],
   "source": [
    "a=int(input(\"enter a number:\"))\n",
    "temp=a\n",
    "sum=0\n",
    "rev=0\n",
    "while(a>0):\n",
    "    rem=a%10\n",
    "    rev=(rev*10)+rem\n",
    "    a=a//10\n",
    "if(temp==rev):\n",
    "   print(f\" {temp} is pallindrome :{rev}\")\n",
    "else:\n",
    "    print(f\"{temp} is not pallindrome.\")"
   ]
  },
  {
   "cell_type": "code",
   "execution_count": 17,
   "id": "3c8515f6-c083-4f3d-bebd-a0116ec51df1",
   "metadata": {},
   "outputs": [
    {
     "name": "stdout",
     "output_type": "stream",
     "text": [
      "1 2 3 4 \n",
      "1 2 3 \n",
      "1 2 \n",
      "1 \n"
     ]
    }
   ],
   "source": [
    "a=4\n",
    "for i in range(a,0,-1):\n",
    "    for j in range(1,i+1):\n",
    "        print(j,end=\" \");\n",
    "    print()"
   ]
  },
  {
   "cell_type": "code",
   "execution_count": 24,
   "id": "b6bda6ff-87e4-4cdc-819c-69b25c267cd0",
   "metadata": {},
   "outputs": [
    {
     "name": "stdout",
     "output_type": "stream",
     "text": [
      "Ge12\n",
      "KaKa\n",
      "string empty\n"
     ]
    }
   ],
   "source": [
    "#Expected Result : 'Ge12'\n",
    "#Sample String : 'Ka'\n",
    "#Sample String : ' Kaka'\n",
    "#Expected Result : Empty String\n",
    "a=\"General12\"\n",
    "print(a[0:2]+a[7:])\n",
    "b=\"Ka\"\n",
    "print(b*2)\n",
    "c=\"K\"\n",
    "if(len(c)<2):\n",
    "    print(\"string empty\")\n",
    "else:\n",
    "    print(\"string is not empty\")"
   ]
  },
  {
   "cell_type": "code",
   "execution_count": 25,
   "id": "27fe5981-600d-4f31-acd2-188ccb39824c",
   "metadata": {},
   "outputs": [
    {
     "name": "stdout",
     "output_type": "stream",
     "text": [
      "$pple\n"
     ]
    }
   ],
   "source": [
    "#Write a program to replace all occurrences of ‘a’ with $ in a String.\n",
    "b=\"apple\"\n",
    "new=b.replace(\"a\",\"$\")\n",
    "print(new)"
   ]
  },
  {
   "cell_type": "code",
   "execution_count": 27,
   "id": "6720efe1-c690-49bf-97bd-88e2d31b8e3d",
   "metadata": {},
   "outputs": [
    {
     "name": "stdout",
     "output_type": "stream",
     "text": [
      "result: abkppc\n"
     ]
    }
   ],
   "source": [
    "#Sample String: 'ppk', 'abc’\n",
    "#Expected Result: 'abkppc’\n",
    "a=\"ppk\"\n",
    "b=\"abc\"\n",
    "print(\"result:\",b[:2]+a[2]+a[:2]+b[2])"
   ]
  },
  {
   "cell_type": "code",
   "execution_count": 31,
   "id": "ab3333ca-acd4-42be-abc1-b56c3f3f4fd7",
   "metadata": {},
   "outputs": [
    {
     "name": "stdout",
     "output_type": "stream",
     "text": [
      "length without library function: 9\n",
      "length using library function: 9\n"
     ]
    }
   ],
   "source": [
    "a=\"general12\"\n",
    "count=0\n",
    "\n",
    "for i in a:\n",
    "    count=count+1\n",
    "print(\"length without library function:\",count)\n",
    "print(\"length using library function:\",len(a))"
   ]
  },
  {
   "cell_type": "code",
   "execution_count": 34,
   "id": "4d21ba69-1c15-4712-af4c-84b4137fd7fd",
   "metadata": {},
   "outputs": [
    {
     "name": "stdout",
     "output_type": "stream",
     "text": [
      "letters in string: 7\n",
      "digit in string: 2\n",
      "special character: 1\n"
     ]
    }
   ],
   "source": [
    "#Write a Python program to calculate the Number of Digits and Letters in a string.\n",
    "a=\"General@12\"\n",
    "digit=0\n",
    "letters=0\n",
    "special=0\n",
    "for i in a:\n",
    "    if(i.isalpha()):\n",
    "       letters=letters+1\n",
    "    elif(i.isdigit()):\n",
    "        digit=digit+1\n",
    "    else:\n",
    "        special=special+1\n",
    "print(\"letters in string:\",letters)\n",
    "print(\"digit in string:\",digit)\n",
    "print(\"special character:\",special)\n",
    "        \n",
    "    \n",
    "    \n"
   ]
  },
  {
   "cell_type": "code",
   "execution_count": 41,
   "id": "c2edee52-532a-4bea-b98e-650caec4527f",
   "metadata": {},
   "outputs": [
    {
     "name": "stdin",
     "output_type": "stream",
     "text": [
      "enter string: malayalam\n"
     ]
    },
    {
     "name": "stdout",
     "output_type": "stream",
     "text": [
      "string malayalam is pallindrome string\n"
     ]
    }
   ],
   "source": [
    "#Write a python program to check if a string is a Palindrome or Not.\n",
    "a=input(\"enter string:\")\n",
    "if(a==a[::-1]):\n",
    "    print(f\"string {a} is pallindrome string\")\n",
    "else:\n",
    "    print(f\"string {a} is not pallindrome string\")\n",
    "\n"
   ]
  },
  {
   "cell_type": "code",
   "execution_count": 43,
   "id": "9bb5717c-794c-4b06-86c2-d9c6b84f8759",
   "metadata": {},
   "outputs": [
    {
     "name": "stdin",
     "output_type": "stream",
     "text": [
      "enter a string: google1123.com\n"
     ]
    },
    {
     "name": "stdout",
     "output_type": "stream",
     "text": [
      "{'g': 2, 'o': 3, 'l': 1, 'e': 1, '1': 2, '2': 1, '3': 1, '.': 1, 'c': 1, 'm': 1}\n"
     ]
    }
   ],
   "source": [
    "str=input(\"enter a string:\")\n",
    "count=0\n",
    "result={i:str.count(i) for i in str}\n",
    "print(result)"
   ]
  },
  {
   "cell_type": "code",
   "execution_count": 1,
   "id": "4bd41d6e-47ca-470c-a721-b5beaae030d0",
   "metadata": {},
   "outputs": [
    {
     "name": "stdout",
     "output_type": "stream",
     "text": [
      " Sachin is Cricketer kind person\n"
     ]
    }
   ],
   "source": [
    "#str1 = \"/*Sachin is @Cricketer& kind person\"\n",
    "tr = \"/*Sachin is @Cricketer& kind person\"\n",
    "str=\" \"\n",
    "for i in tr:\n",
    "    if((i.isalnum()) or (i.isspace())):\n",
    "        str=str+i\n",
    "print(str)\n",
    "    \n"
   ]
  },
  {
   "cell_type": "code",
   "execution_count": 57,
   "id": "5f2eb4f2-3a96-4ca8-9f1f-b478f15eb42d",
   "metadata": {},
   "outputs": [
    {
     "name": "stdout",
     "output_type": "stream",
     "text": [
      "remove character is: bsahlpn\n"
     ]
    }
   ],
   "source": [
    "a=\"bjswagholipune\"\n",
    "result=a[::2]\n",
    "print(\"remove character is:\",result)"
   ]
  },
  {
   "cell_type": "code",
   "execution_count": 2,
   "id": "99286970-beaa-42a5-a613-ddda57ae7aef",
   "metadata": {},
   "outputs": [
    {
     "name": "stdout",
     "output_type": "stream",
     "text": [
      "(50, 40, 30, 20, 10)\n"
     ]
    }
   ],
   "source": [
    "aTup=(10,20,30,40,50)\n",
    "print(aTup[::-1])"
   ]
  },
  {
   "cell_type": "code",
   "execution_count": null,
   "id": "1a9a73e8-38e2-4fcb-92b6-d5a12aefb657",
   "metadata": {},
   "outputs": [],
   "source": [
    "a=(3,4,5,7,8)\n"
   ]
  }
 ],
 "metadata": {
  "kernelspec": {
   "display_name": "Python [conda env:base] *",
   "language": "python",
   "name": "conda-base-py"
  },
  "language_info": {
   "codemirror_mode": {
    "name": "ipython",
    "version": 3
   },
   "file_extension": ".py",
   "mimetype": "text/x-python",
   "name": "python",
   "nbconvert_exporter": "python",
   "pygments_lexer": "ipython3",
   "version": "3.13.5"
  }
 },
 "nbformat": 4,
 "nbformat_minor": 5
}
